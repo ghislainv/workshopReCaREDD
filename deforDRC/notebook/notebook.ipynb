{
 "cells": [
  {
   "cell_type": "markdown",
   "metadata": {
    "deletable": true,
    "editable": true
   },
   "source": [
    "# Democratic Republic of Congo: modelling and forecasting deforestation\n",
    "\n",
    "- **Notebook address**: https://github.com/ghislainv/workshopReCaREDD/blob/master/deforCameroon/notebook/notebook.ipynb\n",
    "- **GitHub repository for `deforestprob` Python module**: https://github.com/ghislainv/deforestprob\n",
    "- **Author**: Ghislain Vieilledent https://ghislainv.github.io\n",
    "\n",
    "This notebook will show you how to use the `deforestprob` Python module. The module can be used to estimate the spatial probability of deforestation in the tropics depending on various spatial environmental variables."
   ]
  },
  {
   "cell_type": "markdown",
   "metadata": {
    "deletable": true,
    "editable": true
   },
   "source": [
    "We first import the `deforestprob` module and the other necessary modules to run the script."
   ]
  },
  {
   "cell_type": "code",
   "execution_count": 2,
   "metadata": {
    "collapsed": false,
    "deletable": true,
    "editable": true,
    "scrolled": false
   },
   "outputs": [],
   "source": [
    "# Import modules\n",
    "%load_ext autoreload\n",
    "%autoreload 2\n",
    "import os\n",
    "import numpy as np\n",
    "import pandas as pd\n",
    "from patsy import dmatrices\n",
    "import matplotlib.pyplot as plt\n",
    "import deforestprob as dfp\n",
    "#%matplotlib inline"
   ]
  },
  {
   "cell_type": "markdown",
   "metadata": {
    "deletable": true,
    "editable": true
   },
   "source": [
    "We also create a directory to hold the outputs with the help of the function `.make_dir()` from the `deforestprob` module."
   ]
  },
  {
   "cell_type": "code",
   "execution_count": 3,
   "metadata": {
    "collapsed": false,
    "deletable": true,
    "editable": true,
    "scrolled": false
   },
   "outputs": [],
   "source": [
    "# Make output directory\n",
    "dfp.make_dir(\"output\")"
   ]
  },
  {
   "cell_type": "markdown",
   "metadata": {
    "deletable": true,
    "editable": true
   },
   "source": [
    "## Python preambule\n",
    "\n",
    "Python is a widely-used programming language and is excellent for working with spatial data. For an introduction to Python, have a look at the [Python documentation](https://docs.python.org/2.7/). To see how you can use Python for Geoprocessing, I advice reading the book [_Geoprocessing with Python_](https://www.manning.com/books/geoprocessing-with-python?ref=gislounge.com) by [Chris Garrard](https://github.com/cgarrard).\n",
    "\n",
    "If you want to see how to use a function in Python, simply write `help(\"function_name\")` in the Python console. "
   ]
  },
  {
   "cell_type": "code",
   "execution_count": 4,
   "metadata": {
    "collapsed": false,
    "deletable": true,
    "editable": true,
    "scrolled": false
   },
   "outputs": [
    {
     "name": "stdout",
     "output_type": "stream",
     "text": [
      "Help on function predict in module deforestprob.predict:\n",
      "\n",
      "predict(model, var_dir='data', input_cell_raster='output/rho.tif', input_forest_raster='data/forest.tif', output_file='output/pred_binomial_iCAR.tif', blk_rows=128, figsize=(11.69, 8.27), dpi=200)\n",
      "    Predict the spatial probability of deforestation from a model.\n",
      "    \n",
      "    This function predicts the spatial probability of deforestation\n",
      "    from a model_binomial_iCAR model. Computation are done by block and\n",
      "    can be performed on large geographical areas.\n",
      "    \n",
      "    :param model: model_binomial_iCAR model to predict from.\n",
      "    :param var_dir: directory with rasters (.tif) of explicative variables.\n",
      "    :param input_cell_raster: path to raster of rho values for spatial cells.\n",
      "    :param input_forest_raster: path to forest raster (1 for forest).\n",
      "    :param output_file: name of the raster file to output the probability map.\n",
      "    :param blk_rows: if > 0, number of rows for computation by block.\n",
      "    :param figsize: figure size in inches.\n",
      "    :param dpi: resolution for output image.\n",
      "    :return: a Matplotlib figure of the probability map.\n",
      "\n"
     ]
    }
   ],
   "source": [
    "help(dfp.predict)"
   ]
  },
  {
   "cell_type": "markdown",
   "metadata": {
    "deletable": true,
    "editable": true
   },
   "source": [
    "## Downloading and preparing the data\n",
    "\n",
    "To model the spatial probability of deforestation, we need a map of the past deforestation and maps of potential explicative environmental variables. Environmental variables can be derived from _topography_ (altitude, slope, and aspect), _accessibility_ (distance to roads, towns, and forest edge), _deforestation history_ (distance to previous deforestation) or _landscape policy_ (location inside a protected area) for example. In our example, we use the following variables :\n",
    "\n",
    "| Product                            | Source                  | Variable derived                   | Unit | Resolution (m) |\n",
    "|------------------------------------|-------------------------|------------------------------------|:----:|---------------:|\n",
    "| Deforestation maps (2000-**2005-2010**-2014) |  Hansen et al. 2013 (1)        | forest/non-forest                  |   -  |             30 |\n",
    "|                                    |                         | distance to forest edge            |   m  |             30 |\n",
    "|                                    |                         | distance to previous deforestation |   m  |             30 |\n",
    "| Digital Elevation Model            | SRTM v4.1 CSI-CGIAR (2) | altitude                           |   m  |             90 |\n",
    "|                                    |                         | slope                              |   °  |             90 |\n",
    "|                                    |                         | aspect                             |   °  |             90 |\n",
    "| Highways                           | OSM - Geofabrik (3)     | distance to road                  |   m  |            150 |\n",
    "| Places                             |                         | distance to town                  |   m  |            150 |\n",
    "| Waterways                          |                         | distance to river                  |   m  |            150 |\n",
    "| Protected areas                    | Protected Planet UNEP-WCMC (4)             | presence of protected area         |   -  |             30 |\n",
    "\n",
    "1. http://earthenginepartners.appspot.com/science-2013-global-forest/download_v1.2.html, Hansen Global Forest Change v1.2 (2000-2014), Hansen et al. 2013\n",
    "2. http://srtm.csi.cgiar.org, SRTM 90m Digital Elevation Database v4.1\n",
    "3. http://www.geofabrik.de, data extracts from the OpenStreetMap project\n",
    "4. http://www.protectedplanet.net, March 2007 version"
   ]
  },
  {
   "cell_type": "markdown",
   "metadata": {
    "deletable": true,
    "editable": true
   },
   "source": [
    "To obtain the data, we can either (i) execute a bash script which downloads the raw data from the sources and computes the variables, or (ii) directly used the pre-computed variables that we copy to the data directory."
   ]
  },
  {
   "cell_type": "code",
   "execution_count": 5,
   "metadata": {
    "collapsed": false,
    "deletable": true,
    "editable": true,
    "scrolled": false
   },
   "outputs": [],
   "source": [
    "# =====================================\n",
    "# Execute the bash script\n",
    "# =====================================\n",
    "\n",
    "# To execute the bash script, uncomment and run the following line\n",
    "# os.system(\"sh scripts/data.sh\")"
   ]
  },
  {
   "cell_type": "markdown",
   "metadata": {
    "deletable": true,
    "editable": true
   },
   "source": [
    "In our example, `fcc05_10.tif` is a forest-cover change raster at 30m for the period 2005-2010. We can plot this raster and zoom on a region with function `.plot.forest()` in the `deforestprob` package to see the deforestation data. The remaining forest appears in green and the deforested areas appear in red."
   ]
  },
  {
   "cell_type": "code",
   "execution_count": 9,
   "metadata": {
    "collapsed": false,
    "deletable": true,
    "editable": true,
    "scrolled": false
   },
   "outputs": [
    {
     "data": {
      "image/png": "[encoded data removed]",
      "text/plain": [
       "<matplotlib.figure.Figure at 0x7f2c8bc44f50>"
      ]
     },
     "execution_count": 9,
     "metadata": {},
     "output_type": "execute_result"
    }
   ],
   "source": [
    "# ========================================================\n",
    "# Plot forest\n",
    "# ========================================================\n",
    "dfp.plot.forest(input_forest_raster=\"data/fcc05_10.tif\",\n",
    "                output_file=\"output/forest.png\",\n",
    "                borders=\"data/borders_UTM.shp\",\n",
    "                col=(255, 0, 0, 255),  # rgba color for deforestation\n",
    "                figsize=(4,4),\n",
    "                dpi=200,\n",
    "                zoom=(500000, 700000, -650000, -450000))  # xmin, xmax, ymin, ymax"
   ]
  },
  {
   "cell_type": "markdown",
   "metadata": {
    "deletable": true,
    "editable": true
   },
   "source": [
    "We can also plot the environmental raster files using function `.plot.var()` in the `deforestprob` package."
   ]
  },
  {
   "cell_type": "code",
   "execution_count": null,
   "metadata": {
    "collapsed": false,
    "deletable": true,
    "editable": true,
    "scrolled": false
   },
   "outputs": [],
   "source": [
    "# ========================================================\n",
    "# Plot environmental variables\n",
    "# ========================================================\n",
    "var_fig = dfp.plot.var(var_dir=\"data\",\n",
    "                       output_file=\"output/var.pdf\",\n",
    "                       gridsize=(2,2),\n",
    "                       figsize=(5,6),\n",
    "                       dpi=125)\n",
    "var_fig[0]"
   ]
  },
  {
   "cell_type": "markdown",
   "metadata": {
    "deletable": true,
    "editable": true
   },
   "source": [
    "## Sampling the observations\n",
    "\n",
    "We use the function `.sample()` from the `deforestprob` module to sample 10,000 points (pixel centers) in the deforested areas and in the remaining forest (20,000 points in total). The `input_forest_raster` argument defines the path to the forest raster including the deforested pixels (with value=0) and the remaining forest pixels (value=1) after a given period of time. The random seed can be set with argument `Seed` to reproduce the data of the random sampling."
   ]
  },
  {
   "cell_type": "markdown",
   "metadata": {
    "deletable": true,
    "editable": true
   },
   "source": [
    "The `.sample()` function also extracts information from environmental variables for each sampled point. Sampling is done by block to allow the computation on large study areas (e.g. country or continental scale) with a fine spatial resolution (e.g. 30m). The `var_dir` argument indicates the directory including all the environmental raster files (they must be GeoTIFF files with extension `.tif`) that we want to test."
   ]
  },
  {
   "cell_type": "markdown",
   "metadata": {
    "deletable": true,
    "editable": true
   },
   "source": [
    "The `.sample()` function identifies the spatial cell for each sample point (sample point are grouped within a spatial cell). Spatial cells and grouped observations are used to estimate the spatial autocorrelation of the deforestation process. The `csize` argument define the width (in km) of the square spatial cells. Each spatial cell will be attributed a parameter. To avoid estimating too many parameters, width of the square spatial cells must be sufficiently large. Both points sampling and extraction of environmental data are done by block to avoid memory problems for big datasets."
   ]
  },
  {
   "cell_type": "code",
   "execution_count": null,
   "metadata": {
    "collapsed": false,
    "deletable": true,
    "editable": true,
    "raw_mimetype": "text/x-python",
    "scrolled": false
   },
   "outputs": [],
   "source": [
    "# ========================================================\n",
    "# Sample\n",
    "# ========================================================\n",
    "\n",
    "# Sample points\n",
    "dataset = dfp.sample(nsamp=10000, Seed=1234, csize=10,\n",
    "                     var_dir=\"data\",\n",
    "                     input_forest_raster=\"fcc05_10.tif\",\n",
    "                     output_file=\"output/sample.txt\",\n",
    "                     blk_rows=0)"
   ]
  },
  {
   "cell_type": "markdown",
   "metadata": {
    "deletable": true,
    "editable": true
   },
   "source": [
    "A [`pandas`](http://pandas.pydata.org/) `DataFrame` is returned by the function (each row being an observation) and the sampled observations are also written to a text file defined by the argument `output_file`."
   ]
  },
  {
   "cell_type": "code",
   "execution_count": null,
   "metadata": {
    "collapsed": false,
    "deletable": true,
    "editable": true,
    "scrolled": false
   },
   "outputs": [],
   "source": [
    "# To import data as pandas DataFrame if necessary\n",
    "dataset = pd.read_table(\"output/sample.txt\",\n",
    "                         delimiter=\",\")\n",
    "\n",
    "# Print the first five rows\n",
    "print(dataset.head(5))"
   ]
  },
  {
   "cell_type": "markdown",
   "metadata": {
    "deletable": true,
    "editable": true
   },
   "source": [
    "Sampled observations can be plotted using function `.plot.obs()` from the `deforestprob` module. Dark red dots indicate deforestation observations and dark green dots indicate forest observations. "
   ]
  },
  {
   "cell_type": "code",
   "execution_count": null,
   "metadata": {
    "collapsed": false,
    "deletable": true,
    "editable": true,
    "scrolled": false
   },
   "outputs": [],
   "source": [
    "# Plot sample points\n",
    "dfp.plot.obs(sample=dataset,\n",
    "             name_forest_var=\"fcc05_10\",\n",
    "             input_forest_raster=\"data/fcc05_10.tif\",\n",
    "             output_file=\"output/obs.png\",\n",
    "             zoom=(500000, 700000, -650000, -450000),  # xmin, xmax, ymin, ymax\n",
    "             s=5,dpi=150)"
   ]
  },
  {
   "cell_type": "markdown",
   "metadata": {
    "deletable": true,
    "editable": true
   },
   "source": [
    "## Descriptive statistics\n",
    "\n",
    "Before modelling the deforestation, it is important to look at the relationship between environmental variables and deforestation. Using formulas from the [`patsy`](https://github.com/pydata/patsy) Python module, we can specify the relationships that we want to look at. In the example below, we plot the relationships between some continuous environmental variables and the probability of deforestation using function `.plot.correlation()` from the `deforestprob` package. Note that -1 must be set at the end of the formula. "
   ]
  },
  {
   "cell_type": "code",
   "execution_count": null,
   "metadata": {
    "collapsed": false,
    "deletable": true,
    "editable": true,
    "scrolled": false
   },
   "outputs": [],
   "source": [
    "# ========================================================\n",
    "# Descriptive statistics\n",
    "# ========================================================\n",
    "\n",
    "# To import data as pandas DataFrame if necessary\n",
    "# dataset = pd.read_table(\"output/sample.txt\",\n",
    "#                         delimiter=\",\")\n",
    "\n",
    "# Model formulas\n",
    "formula_1 = \"fcc05_10 ~ dist_road + dist_town + dist_defor + \\\n",
    "dist_river + dist_edge + altitude + slope + aspect - 1\"\n",
    "# Standardized variables (mean=0, std=1)\n",
    "formula_2 = \"fcc05_10 ~ scale(dist_road) + scale(dist_town) + \\\n",
    "scale(dist_defor) + scale(dist_river) + scale(dist_edge) + \\\n",
    "scale(altitude) + scale(slope) + scale(aspect) - 1\"\n",
    "formulas = (formula_1, formula_2)\n",
    "\n",
    "# List to store figures\n",
    "corr_fig = []\n",
    "\n",
    "# Remove NA from data-set (otherwise scale() doesn't work)\n",
    "dataset = dataset.dropna(axis=0)\n",
    "\n",
    "# Loop on formulas\n",
    "for f in range(len(formulas)):\n",
    "    # Output file\n",
    "    of = \"output/correlation_\" + str(f) + \".pdf\"\n",
    "    # Data\n",
    "    y, data = dmatrices(formulas[f], data=dataset,\n",
    "                        return_type=\"dataframe\")\n",
    "    \n",
    "    # Plots\n",
    "    corr_fig.append(dfp.plot.correlation(y=y, data=data, \n",
    "                                         plots_per_page=3,\n",
    "                                         figsize=(7,8),\n",
    "                                         dpi=100,\n",
    "                                         output_file=of))"
   ]
  },
  {
   "cell_type": "markdown",
   "metadata": {
    "deletable": true,
    "editable": true
   },
   "source": [
    "The function `.correlation()` returns a serie of graphics that can be analyzed to choose the right relationship for each continuous variable (linear or polynomial for example)."
   ]
  },
  {
   "cell_type": "code",
   "execution_count": null,
   "metadata": {
    "collapsed": false,
    "deletable": true,
    "editable": true,
    "scrolled": false
   },
   "outputs": [],
   "source": [
    "# Correlation plots\n",
    "corr_fig[1][0]"
   ]
  },
  {
   "cell_type": "markdown",
   "metadata": {
    "deletable": true,
    "editable": true
   },
   "source": [
    "In this example, we can see that a linear model should be sufficient to represent the relationship between the probability of deforestation and the standardized distance to the nearest road or town. On the contrary, it could be interesting to fit a polynomial model for the the standardized distance to previous deforestation (`dist_defor` variable) for which the relationship seems non-linear. Several models can be fitted and compared to see if a second-order or third-order polynomial relationship is justified."
   ]
  },
  {
   "cell_type": "markdown",
   "metadata": {
    "deletable": true,
    "editable": true
   },
   "source": [
    "## Spatial deforestation model\n",
    "\n",
    "We propose to use the **Binomial iCAR** model ([Vieilledent et al. 2014](http://doi.org/10.5281/zenodo.48470)) to estimate the deforestation probability of a pixel given a set of environmental variables. The Binomial iCAR model is a linear Binomial logistic regression model including an intrinsic Conditional Autoregressive (iCAR) process to account for the spatial autocorrelation of the observations. Parameter inference is done in a hierarchical Bayesian framework. The `.model_binomial_iCAR()` function from the `deforestprob` module includes a Metropolis-within-Gibbs algorithm written in pure C code to reduce computation time.\n",
    "\n",
    "![Bayes](images/Bayes.jpg)\n",
    "**Figure caption:** Parameter inference is done in a hierarchical Bayesian framework, which relies on the [Bayes' theorem](https://en.wikipedia.org/wiki/Bayes'_theorem) named after [Reverend Thomas Bayes](https://en.wikipedia.org/wiki/Thomas_Bayes). Each parameter has a prior and an approximated posterior probability distribution from which we can compute the mean, standard deviation, credible intervals at 95%, etc."
   ]
  },
  {
   "cell_type": "markdown",
   "metadata": {
    "deletable": true,
    "editable": true
   },
   "source": [
    "For the deforestation process it is _**very important to take into account the spatial autocorrelation of the process**_ with spatial random effects. Indeed, the selected fixed environmental variables are not able to fully explain the spatial variability of the deforestation process, especially when working at large geographical scales, such as the national or continental scale. Spatial random effects allow estimating a higher/lower probability of deforestation in a particular region (associated to unmeasurable or unknow factors) that is different from the mean probability of deforestation derived from the environmental factors included in the model. The Binomial iCAR model can be discribed as follow:\n",
    "\n",
    "** Ecological process **\n",
    "\n",
    "\\begin{equation}\n",
    "y_i \\sim \\mathcal{B}inomial(\\theta_i,t_i) \\\\\n",
    "\\text{logit}(\\theta_i) = X_i \\beta + \\rho_{j(i)}\n",
    "\\end{equation}\n",
    "\n",
    "$y_i$: random variable for the deforestation process (0 if no deforestation, 1 if deforestation)\n",
    "\n",
    "$\\theta_i$: probability of deforestation\n",
    "\n",
    "$t_i$: number of trials (always 1 in our example)\n",
    "\n",
    "$X_i$: vector of values for environmental explicative variables\n",
    "\n",
    "$\\beta$: vector of fixed effect parameters\n",
    "\n",
    "$\\rho_j$: spatial random effect\n",
    "  \n",
    "$j(i)$: index of the spatial entity for observation $i$.\n",
    "  \n",
    "** Spatial autocorrelation **\n",
    "  \n",
    "The spatial autocorrelation is modelled with an intrinsic conditional autoregressive (iCAR) process:\n",
    "\n",
    "\\begin{equation}\n",
    "\\rho_j \\sim \\mathcal{N}ormal(\\mu_j,V_{\\rho} / n_j)\n",
    "\\end{equation}\n",
    "\n",
    "$\\mu_j$: mean of $\\rho_{j'}$ in the neighborhood of $j$.\n",
    "  \n",
    "$V_{\\rho}$: variance of the spatial random effects.\n",
    "  \n",
    "$n_j$: number of neighbors for spatial entity $j$.\n",
    "\n",
    "![iCAR process](images/iCAR.png)\n",
    "**Figure caption:** Representation of the neighborhood for the intrinsic conditional autoregressive (iCAR) process. Target spatial cell $j$ has 8 neighbors in this case. Several observations (black points, equivalent to pixel centers in our case) can be located in each spatial cell. Deforestation probability in one spatial cell $j$ depends on deforestation probability in neighboring cells."
   ]
  },
  {
   "cell_type": "markdown",
   "metadata": {
    "deletable": true,
    "editable": true
   },
   "source": [
    "Before running the model, we add a column indicating the number of trials for each observation (1 in our case as we are considering a Bernoulli process). We then remove any observation with non-available data (NA) from the data-set. We also compute the number of neighbors (`nneigh`) and the neighbor identifiers (`adj`) for each spatial cell using function `.cellneigh` from the `deforestprob` module.\n",
    "\n",
    "A model formula must also be defined to specify the explicative variables we want to include in the model. The formula allows specifying some variable transformations (such as standardization in our case). See the [`patsy`](https://patsy.readthedocs.io/en/latest/) module for more information. In our model, we included the following variables: location inside a protected area, altitude, distance to past deforestation (with a degree two polynomial), distance to forest edge, distance to nearest road and distance to nearest town. The formula must end with the name of the variable indicating the spatial cell for each observation (`cell` in our case)."
   ]
  },
  {
   "cell_type": "code",
   "execution_count": null,
   "metadata": {
    "collapsed": false,
    "deletable": true,
    "editable": true,
    "scrolled": false
   },
   "outputs": [],
   "source": [
    "# ========================================================\n",
    "# hSDM model\n",
    "# ========================================================\n",
    "\n",
    "# Set number of trials to one\n",
    "dataset[\"trial\"] = 1\n",
    "\n",
    "# Remove observations with NA\n",
    "dataset = dataset.dropna(axis=0)\n",
    "\n",
    "# Spatial cells for spatial-autocorrelation\n",
    "nneigh, adj = dfp.cellneigh(raster=\"data/fcc05_10.tif\", csize=10, rank=1)\n",
    "\n",
    "# Formula\n",
    "formula = \"I(1-fcc05_10) + trial ~ C(pa) + scale(altitude) +  scale(slope) + \\\n",
    "scale(dist_defor) + np.power(scale(dist_defor),2) + \\\n",
    "scale(dist_edge) + \\\n",
    "scale(dist_road) + scale(dist_town) + cell\""
   ]
  },
  {
   "cell_type": "code",
   "execution_count": null,
   "metadata": {
    "collapsed": false,
    "deletable": true,
    "editable": true,
    "scrolled": false
   },
   "outputs": [],
   "source": [
    "# Model\n",
    "mod_binomial_iCAR = dfp.model_binomial_iCAR(\n",
    "    # Observations\n",
    "    suitability_formula=formula, data=dataset,\n",
    "    # Spatial structure\n",
    "    n_neighbors=nneigh, neighbors=adj,\n",
    "    # Chains\n",
    "    burnin=1000, mcmc=1000, thin=1,\n",
    "    # Starting values\n",
    "    beta_start=-99)"
   ]
  },
  {
   "cell_type": "markdown",
   "metadata": {
    "deletable": true,
    "editable": true
   },
   "source": [
    "## Results of the model\n",
    "\n",
    "Once the model has been fitted, we can print a summary of the model showing the parameter estimates. The 95% credible intervals obtained from the posterior distribution of each parameter, except distance to nearest town (`dist_town`), do not include zero, indicating that parameters are significantly different from zero. The variance of the spatial random effects (`Vrho`) is given together with the deviance value, which can be used to compare different statistical models (lower deviance is better). Looking at the parameter estimates, we can see that the deforestation probability is much lower inside protected areas and that deforestation probability decreases with altitude, slope, distance to past deforestation, forest edge, roads and towns. Parameter values are then coherent regarding the deforestation process and easy to interpret."
   ]
  },
  {
   "cell_type": "code",
   "execution_count": null,
   "metadata": {
    "collapsed": false,
    "deletable": true,
    "editable": true,
    "scrolled": false
   },
   "outputs": [],
   "source": [
    "# Summary\n",
    "estimates_file = open(\"output/estimates.txt\", \"w\")\n",
    "print >> estimates_file, mod_binomial_iCAR\n",
    "estimates_file.close()\n",
    "print(mod_binomial_iCAR)"
   ]
  },
  {
   "cell_type": "markdown",
   "metadata": {
    "deletable": true,
    "editable": true
   },
   "source": [
    "To check for the convergence of the Markov chain Monte Carlo (MCMC), we can plot the traces and the posterior distributions of the estimated parameters using method `.plot()` associated to the `hSDM_binomial_iCAR` class defined in the `deforestprob` module. This method returns the figures showing the traces and posterior distributions."
   ]
  },
  {
   "cell_type": "code",
   "execution_count": null,
   "metadata": {
    "collapsed": false,
    "deletable": true,
    "editable": true,
    "scrolled": false
   },
   "outputs": [],
   "source": [
    "# Plot\n",
    "traces_fig = mod_binomial_iCAR.plot(output_file=\"output/mcmc.pdf\",\n",
    "                                    plots_per_page=3,\n",
    "                                    figsize=(9,6),\n",
    "                                    dpi=100)\n",
    "traces_fig[0]"
   ]
  },
  {
   "cell_type": "markdown",
   "metadata": {
    "deletable": true,
    "editable": true
   },
   "source": [
    "## Predicting the spatial probability of deforestation\n",
    "\n",
    "We use the model to predict the spatial probability of deforestation at the national scale for Madagascar. Before, doing so, we smooth the spatial random effects which have been estimated at a coarse resolution (10km in our example). To do so, we use the function `.resample_rho()` from the `deforestprob` module to resample the results at a finer resolution using a bilinear interpolation. The function writes a raster file to the disk with a resolution of the raster specified in the argument `input_raster` of the function (1km in our case). The function `.resample_rho()` returns a figure of the spatial random effects that can be plotted."
   ]
  },
  {
   "cell_type": "code",
   "execution_count": null,
   "metadata": {
    "collapsed": false,
    "deletable": true,
    "editable": true,
    "scrolled": false
   },
   "outputs": [],
   "source": [
    "# ========================================================\n",
    "# Resampling spatial random effects\n",
    "# ========================================================\n",
    "\n",
    "# Spatial random effects\n",
    "rho = mod_binomial_iCAR.rho\n",
    "\n",
    "# Resample\n",
    "dfp.resample_rho(rho=rho, input_raster=\"data/fcc05_10.tif\",\n",
    "                 output_file=\"output/rho.tif\",\n",
    "                 csize_orig=10, csize_new=1,\n",
    "                 figsize=(5,5),\n",
    "                 dpi=150)"
   ]
  },
  {
   "cell_type": "markdown",
   "metadata": {
    "deletable": true,
    "editable": true
   },
   "source": [
    "The `.predict_hSDM()` function of the `deforestprob` module can be used to predict the spatial probability of deforestation from an **hSDM_binomial_iCAR** model (i.e. an object of class `hSDM_binomial_iCAR`). The function writes a raster of predictions to the disk and returns a figure with the predictions that can be plotted. The prediction is done by block to avoid memory problems for big datasets. Functions will return NA for pixels with no forest or for pixels with missing environmental variables."
   ]
  },
  {
   "cell_type": "code",
   "execution_count": null,
   "metadata": {
    "collapsed": false,
    "deletable": true,
    "editable": true,
    "scrolled": false
   },
   "outputs": [],
   "source": [
    "# ========================================================\n",
    "# Predicting spatial probability of deforestation\n",
    "# ========================================================\n",
    "\n",
    "# Compute predictions\n",
    "fig_pred = dfp.predict(mod_binomial_iCAR, var_dir=\"data\",\n",
    "            input_cell_raster=\"output/rho.tif\",\n",
    "            input_forest_raster=\"data/fcc05_10.tif\",\n",
    "            output_file=\"output/pred_binomial_iCAR.tif\",\n",
    "            blk_rows=128,\n",
    "            dpi=200)"
   ]
  },
  {
   "cell_type": "markdown",
   "metadata": {
    "deletable": true,
    "editable": true
   },
   "source": [
    "We can then plot the spatial probability of deforestation."
   ]
  },
  {
   "cell_type": "code",
   "execution_count": null,
   "metadata": {
    "collapsed": false,
    "deletable": true,
    "editable": true,
    "scrolled": false
   },
   "outputs": [],
   "source": [
    "# Plot the spatial probability of deforestation.\n",
    "fig_pred.set_size_inches(10,12)\n",
    "fig_pred"
   ]
  },
  {
   "cell_type": "markdown",
   "metadata": {
    "deletable": true,
    "editable": true
   },
   "source": [
    "## Predicting the future forest cover\n",
    "\n",
    "Given the spatial probability of deforestation and the number of hectares that should be deforested, we can predict the future forest cover using function `.deforest()` from the `deforestprob` package. The number of hectares are converted into number of pixels to be deforested. The function computes a probability threshold above which pixels are deforested. Pixels with the highest probability of deforestation are deforested first. "
   ]
  },
  {
   "cell_type": "markdown",
   "metadata": {
    "deletable": true,
    "editable": true
   },
   "source": [
    "Using [GlobalForestWatch](http://www.globalforestwatch.org/country/COd) data and a tree cover threshold of 50%, we estimate an historical annual deforestation rate of roughly 568,270 ha for the Democratic Republic of Congo on the period 2001-2015. Considering 40 years on the period 2010-2050, this would correspond to 22.73 Mha of deforestation. This number can of course be more precise and refined considering various historical periods and deforestation scenarios (demographic growth, economic development, etc.)."
   ]
  },
  {
   "cell_type": "code",
   "execution_count": null,
   "metadata": {
    "collapsed": false,
    "deletable": true,
    "editable": true,
    "scrolled": false
   },
   "outputs": [],
   "source": [
    "# ========================================================\n",
    "# Predicting forest cover\n",
    "# ========================================================\n",
    "\n",
    "forest_cover = dfp.deforest(input_raster=\"output/pred_binomial_iCAR.tif\",\n",
    "                            hectares=22730000,\n",
    "                            output_file=\"output/forest_cover_2050.tif\",\n",
    "                            blk_rows=64)"
   ]
  },
  {
   "cell_type": "markdown",
   "metadata": {
    "deletable": true,
    "editable": true
   },
   "source": [
    "Because deforestation probability is scaled on the interval [1, 65535] including 65535 values, there might be a difference between the deforested hectares set as input and the true deforested surfaces. The magnitude of the difference depends on the distribution of the deforestation probabilities. Usually, the distribution of the deforestation probabilities should be asymmetric with low frequencies for higher probabilities of deforestation."
   ]
  },
  {
   "cell_type": "code",
   "execution_count": null,
   "metadata": {
    "collapsed": false,
    "deletable": true,
    "editable": true,
    "scrolled": false
   },
   "outputs": [],
   "source": [
    "# Distribution of the deforestation probabilities\n",
    "frequences = forest_cover[\"statistics\"][0]\n",
    "threshold = forest_cover[\"statistics\"][1]\n",
    "freq = plt.figure()\n",
    "plt.subplot(111)\n",
    "plt.plot(frequences, \"bo\")\n",
    "plt.title(\"Frequencies of deforestation probabilities\")\n",
    "plt.axvline(x=threshold, color='k', linestyle='--')\n",
    "freq"
   ]
  },
  {
   "cell_type": "markdown",
   "metadata": {
    "deletable": true,
    "editable": true
   },
   "source": [
    "As a consequence, the error should be negligible compared to the number of hectares set as input."
   ]
  },
  {
   "cell_type": "code",
   "execution_count": null,
   "metadata": {
    "collapsed": false,
    "deletable": true,
    "editable": true,
    "scrolled": false
   },
   "outputs": [],
   "source": [
    "# Error regarding deforested hectares\n",
    "future_forest_error = forest_cover[\"statistics\"][2]\n",
    "future_forest_hectares = forest_cover[\"statistics\"][3]\n",
    "error_perc = 100*future_forest_error/future_forest_hectares\n",
    "print(\"Error (ha): %.2f, %.3f%%\" % (future_forest_error, error_perc))"
   ]
  },
  {
   "cell_type": "markdown",
   "metadata": {
    "deletable": true,
    "editable": true
   },
   "source": [
    "We can plot the predicted future forest cover in 2050. The purple areas represent the deforestation on the period 2010-2050. The green areas represent the remaining forest in 2050. Most of the remaining forest in 2050 are inside the protected areas or located in remote areas, at high altitudes and far from roads and big cities (for example in the Tsaratanana mountain region and around the Masoala peninsula, north-east Madagascar)."
   ]
  },
  {
   "cell_type": "code",
   "execution_count": null,
   "metadata": {
    "collapsed": false,
    "deletable": true,
    "editable": true,
    "scrolled": false
   },
   "outputs": [],
   "source": [
    "# Plot future forest cover\n",
    "dfp.plot.forest(input_forest_raster=\"output/forest_cover_2050.tif\",\n",
    "                output_file=\"output/forest_cover_2050.png\",\n",
    "                col=(128, 0, 0, 255),  # rgba color for deforestation\n",
    "                figsize=(5,5),\n",
    "                dpi=200,\n",
    "                zoom=(500000, 700000, -650000, -450000))  # xmin, xmax, ymin, ymax"
   ]
  },
  {
   "cell_type": "markdown",
   "metadata": {
    "deletable": true,
    "editable": true
   },
   "source": [
    "## Carbon emissions\n",
    "\n",
    "Carbon emissions associated to future deforestation can be computed using function `.emissions()` in the `deforestprob` package in combination with an aboveground forest biomass map. For example, we can use the pantropical 1km aboveground biomass map of Avitabile et al. (2016)."
   ]
  },
  {
   "cell_type": "code",
   "execution_count": null,
   "metadata": {
    "collapsed": false,
    "deletable": true,
    "editable": true,
    "scrolled": false
   },
   "outputs": [],
   "source": [
    "carbon = dfp.emissions(input_stocks=\"data/emissions/AGB.tif\",\n",
    "                       input_forest=\"output/forest_cover_2050.tif\",\n",
    "                       coefficient=0.47,\n",
    "                       blk_rows=128)"
   ]
  },
  {
   "cell_type": "code",
   "execution_count": null,
   "metadata": {
    "collapsed": false,
    "deletable": true,
    "editable": true,
    "scrolled": false
   },
   "outputs": [],
   "source": [
    "print(\"Carbon emissions associated to future deforestation: %d Mg\" % (carbon))"
   ]
  },
  {
   "cell_type": "markdown",
   "metadata": {
    "deletable": true,
    "editable": true
   },
   "source": [
    "## Model validation"
   ]
  },
  {
   "cell_type": "markdown",
   "metadata": {
    "deletable": true,
    "editable": true
   },
   "source": [
    "### Deviance explained"
   ]
  },
  {
   "cell_type": "markdown",
   "metadata": {
    "deletable": true,
    "editable": true
   },
   "source": [
    "We can compute the percentage of deviance explained by the model with or without accounting for spatial autocorrelation. To do so, we need to compute the [deviance of the full (or saturated) and null model](http://www.stat.wisc.edu/courses/st849-bates/lectures/GLMDeviance.pdf). The full model assumes a perfect fit of the data and has a deviance equals to zero. The null model is a simple mean-only model ($\\text{logit}(\\theta_i)=\\mu$). The deviance of the null model and of the model without spatial autocorrelation can be computed using a classical Binomial regression, without hierarchical structure. We will use the `statsmodels` Python module to do so."
   ]
  },
  {
   "cell_type": "code",
   "execution_count": null,
   "metadata": {
    "collapsed": false,
    "deletable": true,
    "editable": true,
    "scrolled": false
   },
   "outputs": [],
   "source": [
    "# Additional module\n",
    "import statsmodels.api as sm\n",
    "# Full model\n",
    "deviance_full = 0\n",
    "# Null model\n",
    "formula_null = \"I(1-fcc05_10) ~ 1\"\n",
    "Y, X = dmatrices(formula_null, data=dataset, NA_action=\"drop\", return_type=\"dataframe\")\n",
    "mod_null = sm.GLM(Y, X, family = sm.families.Binomial())\n",
    "fit_null = mod_null.fit()\n",
    "deviance_null = fit_null.deviance\n",
    "# Model with no spatial random effects\n",
    "formula_nsre = \"I(1-fcc05_10) ~ C(pa) + scale(altitude) +  scale(slope) + \\\n",
    "scale(dist_defor) + np.power(scale(dist_defor),2) + scale(dist_edge) + scale(dist_road) + scale(dist_town)\"\n",
    "Y, X = dmatrices(formula_nsre, data=dataset, NA_action=\"drop\", return_type=\"dataframe\")\n",
    "mod_nsre = sm.GLM(Y, X, family = sm.families.Binomial())\n",
    "fit_nsre = mod_nsre.fit()\n",
    "deviance_nsre = fit_nsre.deviance\n",
    "# Model with iCAR process\n",
    "deviance_icar = mod_binomial_iCAR.Deviance\n",
    "# Dataframe\n",
    "mod = np.array([\"null\", \"nsre\", \"icar\", \"full\"])\n",
    "dev = np.array([deviance_null, deviance_nsre, deviance_icar, deviance_full])\n",
    "perc = 100*(1-dev/deviance_null)\n",
    "print(pd.DataFrame.from_items([(\"model\", mod),\n",
    "                               (\"deviance\", np.rint(dev).astype(int)),\n",
    "                               (\"percentage\", np.rint(perc).astype(int))]))"
   ]
  },
  {
   "cell_type": "markdown",
   "metadata": {
    "deletable": true,
    "editable": true
   },
   "source": [
    "We see that the model without spatial random effects explains 28% of the deviance while the model including spatial random effects explains 41% of the deviance. These percentage might appear rather low, but one should remember that we are trying to predict the deforestation at the pixel scale with a precision of 30 meters."
   ]
  },
  {
   "cell_type": "markdown",
   "metadata": {
    "deletable": true,
    "editable": true
   },
   "source": [
    "### Predictions vs. observations"
   ]
  },
  {
   "cell_type": "markdown",
   "metadata": {
    "deletable": true,
    "editable": true
   },
   "source": [
    "Another way of assessing model performance is to compute some accuracy indices based on a confusion matrix. We select the following accuracy indices: the Overall Accuracy (OA), the Specificity (Spe), the Sensitivity (Sen), Cohen's Kappa (K), the True Skill Statistics (TSS) and the Figure Of Merit (FOM). These indices are classical indices used to estimate the accuracy of deforestation models (see for example Dezécache et al. 2017, Vieilledent et al. 2013 and Pontius et al. 2011).\n",
    "\n",
    "#### Internal validation\n",
    "\n",
    "We first compute these indices on the sampling data-set. Here we are interested in seeing if our model is predicting well the location of the deforestation (relative deforestation probability), not the intensity of deforestation (absolute deforestation probability). We then transform the predicted probability of deforestation into binary values using the deforestation probability \"observed\" in the sampling data-set. This last value should be closed to 0.5 as we sampled as many forest and non-forest pixels, at the exception of the pixels with no-data value for environmental variables. The same proportion of deforested pixels will be applied to the predictions selecting the pixels with the highest predicted deforestation probabilities."
   ]
  },
  {
   "cell_type": "code",
   "execution_count": null,
   "metadata": {
    "collapsed": false,
    "deletable": true,
    "editable": true,
    "scrolled": false
   },
   "outputs": [],
   "source": [
    "# Predictions\n",
    "dataset[\"pred\"] = 0\n",
    "dataset[\"theta_pred\"] = mod_binomial_iCAR.theta_pred\n",
    "# Proportion of deforested pixels\n",
    "nobs = dataset[\"fcc05_10\"].size  # inferior to 20000 as there were NaN\n",
    "ndefor = sum(dataset[\"fcc05_10\"] == 0)  # 0 for deforestation in fordefor2010\n",
    "proba_defor = float(ndefor)/nobs  # not exactly 0.5\n",
    "# Probability threshold to transform probability into binary values\n",
    "proba_thresh = np.percentile(dataset[\"theta_pred\"], 100*(1-proba_defor))  # ! must be (1-proba_defor)\n",
    "dataset.loc[dataset[\"theta_pred\"] >= proba_thresh, \"pred\"] = 1\n",
    "# We check that the proportion of deforested pixel is the same for observations/predictions\n",
    "ndefor_pred = sum(dataset[\"pred\"] == 1)\n",
    "proba_defor_pred = float(ndefor_pred)/nobs\n",
    "proba_defor_pred == proba_defor"
   ]
  },
  {
   "cell_type": "markdown",
   "metadata": {
    "deletable": true,
    "editable": true
   },
   "source": [
    "We use function `accuracy_indices()` from the `deforestprob` package to compute the accuracy indices. "
   ]
  },
  {
   "cell_type": "code",
   "execution_count": null,
   "metadata": {
    "collapsed": false,
    "deletable": true,
    "editable": true,
    "scrolled": false
   },
   "outputs": [],
   "source": [
    "# Accuracy indices\n",
    "pred = dataset[\"pred\"].tolist()\n",
    "obs = (1-dataset[\"fcc05_10\"]).tolist()\n",
    "internal_validation = dfp.accuracy_indices(pred,obs)\n",
    "print(internal_validation)"
   ]
  },
  {
   "cell_type": "markdown",
   "metadata": {
    "deletable": true,
    "editable": true
   },
   "source": [
    "The accuracy indices show that the model has good predictive abilities. Their value is relatively high (close to 1). Once we know the number of pixels to be deforested, the model correctly identifies the pixels that should be deforested first.  "
   ]
  },
  {
   "cell_type": "markdown",
   "metadata": {
    "deletable": true,
    "editable": true
   },
   "source": [
    "## Conclusion\n",
    "\n",
    "We showed here an approach to model and forecast tropical deforestation at the country level. The approach allows us to estimate the effect of each environmental factor on the probability of deforestation. Effects are easy to interpret: deforestation probability increases with accessibility and deforestation is much less important inside protected areas. We also showed that there is a high spatial variability in the deforestation process (see variance of the spatial random effects). Accounting for this additional variability is necessary to be able to forecast deforestation in a realistic way at the national scale.\n",
    "\n",
    "Nonetheless, several improvements could be made to refine the modelling and forecasting approach:\n",
    "\n",
    "- Predictions of the future forest-cover change should be validated with observations (for example using the 2010-2014 period).\n",
    "- The choice of the historical forest-cover change map is really important. Several maps can be used (Hansen, Roadless or reginal maps such as [FACET](https://www.osfac.net/data-products/facet/facet-congo) maps for example). Regarding the Hansen tree-cover map, different tree-cover thresholds can be tested.\n",
    "- Other environmental explicative variables (such as soil types) could be added to the model.\n",
    "- The statistical model can be refined removing some variables with non-significant effects or using higher order polynomials.\n",
    "- Regarding the intensity of deforestation, several scenarios can be considered using various historical means on diferent periods, a deforestation intensity increasing with population growth or considering extreme scenarios (both in terms of mitigation or acceleration of the deforestation)."
   ]
  },
  {
   "cell_type": "markdown",
   "metadata": {
    "deletable": true,
    "editable": true
   },
   "source": [
    "## References\n",
    "\n",
    "** Avitabile, V., Herold, M., Heuvelink, G. B. M., Lewis, S. L., Phillips, O. L., Asner, G. P., Armston, J., Ashton, P. S., Banin, L., Bayol, N., Berry, N. J., Boeckx, P., de Jong, B. H. J., DeVries, B., Girardin, C. A. J., Kearsley, E., Lindsell, J. A., Lopez-Gonzalez, G., Lucas, R., Malhi, Y., Morel, A., Mitchard, E. T. A., Nagy, L., Qie, L., Quinones, M. J., Ryan, C. M., Ferry, S. J. W., Sunderland, T., Laurin, G. V., Gatti, R. C., Valentini, R., Verbeeck, H., Wijaya, A. and Willcock, S.** 2016. An integrated pan-tropical biomass map using multiple reference datasets. _Global Change Biology_. 22: 1406–1420.\n",
    "doi: [10.1111/gcb.13139](http://doi.org/10.1111/gcb.13139)\n",
    "\n",
    "**Dezécache, C.; Salles, J.-M.; Vieilledent, G. & Hérault, B.** 2017. Moving forward socio-economically focused models of deforestation. _Global Change Biology_. in press.\n",
    "doi: [10.1111/gcb.13611](http://doi.org/10.1111/gcb.13611)\n",
    "\n",
    "**Hansen, M. C.; Potapov, P. V.; Moore, R.; Hancher, M.; Turubanova, S. A.; Tyukavina, A.; Thau, D.; Stehman, S. V.; Goetz, S. J.; Loveland, T. R.; Kommareddy, A.; Egorov, A.; Chini, L.; Justice, C. O. & Townshend, J. R. G.** 2013. High-Resolution Global Maps of 21st-Century Forest Cover Change. _Science_. 342:850-853.\n",
    "doi: [10.1126/science.1244693](http://doi.org/10.1126/science.1244693)\n",
    "\n",
    "**Pontius R. G. Jr., J. & Millones, M.** 2011. Death to Kappa: birth of quantity disagreement and allocation disagreement for accuracy assessment. _International Journal of Remote Sensing_. 32:4407-4429.\n",
    "doi: [10.1080/01431161.2011.552923](http://doi.org/10.1080/01431161.2011.552923)\n",
    "\n",
    "**Vieilledent, G.; Merow, C.; Guélat, J.; Latimer, A. M.; Kéry, M.; Gelfand, A. E.; Wilson, A. M.; Mortier, F. & Silander Jr., J. A.** 2014. hSDM CRAN release v1.4 for hierarchical Bayesian species distribution models. _Zenodo_.\n",
    "doi: [10.5281/zenodo.48470](http://doi.org/10.5281/zenodo.48470)\n",
    "\n",
    "**Vieilledent, G.; Grinand, C. & Vaudry, R.** 2013. Forecasting deforestation and carbon emissions in tropical developing countries facing demographic expansion: a case study in Madagascar. _Ecology and Evolution_. 3:1702-1716.\n",
    "doi: [10.1002/ece3.550](http://doi.org/10.1002/ece3.550)"
   ]
  }
 ],
 "metadata": {
  "kernelspec": {
   "display_name": "Python 2",
   "language": "python",
   "name": "python2"
  },
  "language_info": {
   "codemirror_mode": {
    "name": "ipython",
    "version": 2
   },
   "file_extension": ".py",
   "mimetype": "text/x-python",
   "name": "python",
   "nbconvert_exporter": "python",
   "pygments_lexer": "ipython2",
   "version": "2.7.9"
  }
 },
 "nbformat": 4,
 "nbformat_minor": 2
}
